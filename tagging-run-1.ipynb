{
 "cells": [
  {
   "cell_type": "code",
   "execution_count": 7,
   "id": "9fb37500-9a5a-4177-986e-717f4d0e9b3a",
   "metadata": {},
   "outputs": [
    {
     "name": "stderr",
     "output_type": "stream",
     "text": [
      "INFO: pikepdf C++ to Python logger bridge initialized\n"
     ]
    }
   ],
   "source": [
    "from langchain_unstructured import UnstructuredLoader\n",
    "from langchain_core.documents import Document\n",
    "import os\n",
    "\n",
    "dir_path = '/Users/matthewholden/Documents/'\n",
    "filename = os.path.join(dir_path, 'CHS_All of Grace.pdf')\n",
    "\n",
    "loader = UnstructuredLoader(file_path=filename, chunking_strategy=\"basic\", max_characters=1000000000, include_orig_elements=False)\n",
    "docs = loader.load()"
   ]
  },
  {
   "cell_type": "code",
   "execution_count": 11,
   "id": "bda32b0e-9306-4195-9988-cfb9eec1ef0b",
   "metadata": {},
   "outputs": [
    {
     "name": "stderr",
     "output_type": "stream",
     "text": [
      "INFO: HTTP Request: POST https://api.openai.com/v1/chat/completions \"HTTP/1.1 429 Too Many Requests\"\n",
      "INFO: Retrying request to /chat/completions in 0.962000 seconds\n",
      "INFO: HTTP Request: POST https://api.openai.com/v1/chat/completions \"HTTP/1.1 200 OK\"\n"
     ]
    }
   ],
   "source": [
    "from langchain_core.prompts import ChatPromptTemplate\n",
    "from langchain_core.globals import set\n",
    "prompt_1 = \n",
    "prompt = ChatPromptTemplate.from_template(\n",
    "    \"\"\"Extract the tradition of the document. The tradition is a Christian denomination or movement.\n",
    "    Pick the tradition from one of the given tradition types. The tradition is given as a string followed by a colon. After the colon\n",
    "    is a description of the tradition which you should use to help classify the tradition of the document. For the tradition, only return\n",
    "    the word given before the colon and not the description.\n",
    "\n",
    "    {input}\n",
    "\n",
    "    You should also extract the author and the title of the document. The author is the person who wrote the document. The title is the name of the document.\n",
    "   \"\"\"\n",
    "   )\n",
    "\n",
    "schema = {\n",
    "    \"properties\": {\n",
    "        \"document_title\": {\"type\": \"string\"},\n",
    "        \"author\": {\"type\": \"string\"},\n",
    "        \"tradition\": {\"type\": \"string\", \"enum\": [\"Reformed Baptist: A branch of Baptists adhering to Reformed theology, emphasizing doctrines like predestination and God's sovereignty, often following the 1689 Baptist Confession of Faith.\",\n",
    "                                                  \"Presbyterian: A Protestant denomination governed by a system of elders (presbyters) and adhering to Reformed theology, notably the Westminster Confession of Faith.\",\n",
    "                                                  \"Dutch Reformed: A Reformed tradition originating in the Netherlands, known for its adherence to the Heidelberg Catechism and the Canons of Dort.\",\n",
    "                                                  \"Reformed Anglican: A tradition within Anglicanism that upholds Reformed theology, often adhering to the Thirty-Nine Articles and the Book of Common Prayer.\",\n",
    "                                                  \"Neo-Calvinist: A modern movement within Reformed Christianity emphasizing the application of Christian principles to all areas of life, influenced by thinkers like Abraham Kuyper.\",\n",
    "                                                  \"Puritan: A historical movement within English Protestantism seeking to purify the Church of England from within, emphasizing personal piety and adherence to Scripture.\",\n",
    "                                                  \"Misc. Reformed Protestants: A category encompassing various smaller Reformed denominations that hold to similar confessions and creeds as the larger Reformed tradition.\",\n",
    "                                                  \"Lutheran: A major Protestant tradition founded on the teachings of Martin Luther, emphasizing justification by faith alone and adhering to the Augsburg Confession.\",\n",
    "                                                  \"Anglican: A tradition rooted in the Church of England, combining elements of Reformation theology with traditional liturgy, governed by the Book of Common Prayer and the Thirty-Nine Articles.\",\n",
    "                                                  \"Methodist: A Protestant denomination originating from the revival movement of John Wesley, emphasizing personal holiness and social justice, often adhering to the Articles of Religion.\",\n",
    "                                                  \"Non-Reformed Baptist: A branch of Baptists that may not adhere to Reformed theology, often emphasizing believer's baptism and congregational governance.\",\n",
    "                                                  \"Mennonite and Amish: An Anabaptist tradition emphasizing pacifism, simple living, and community, with the Amish being a more conservative branch.\",\n",
    "                                                  \"Non-Denominational: Churches or groups not formally affiliated with any specific denomination, often emphasizing independent governance and a focus on the Bible as the sole authority.\",\n",
    "                                                  \"Plymouth Bretheren: A conservative evangelical movement emphasizing the priesthood of all believers, simple worship, and the expectation of Christ's imminent return.\",\n",
    "                                                  \"Pentecostalism: A Protestant movement emphasizing the work of the Holy Spirit, spiritual gifts, and revivalism, often adhering to a belief in the necessity of a second baptism of the Holy Spirit.\",\n",
    "                                                  \"Vineyard Churches: A denomination within the charismatic movement, emphasizing contemporary worship, the gifts of the Spirit, and a commitment to both evangelism and social justice.\",\n",
    "                                                  \"Congregationalist: A tradition that emphasizes the autonomy of the local church, governed by the congregation, often adhering to Reformed theology.\",\n",
    "                                                  \"Evangelical: A broad movement across various denominations emphasizing the authority of Scripture, the necessity of personal conversion, and active evangelism.\",\n",
    "                                                  \"Baptist (General): A broad Protestant tradition emphasizing believer's baptism, congregational governance, and the authority of Scripture.\",\n",
    "                                                  \"Southern Baptist: The largest Baptist denomination in the United States, emphasizing evangelical beliefs, believer's baptism, and conservative social values.\",\n",
    "                                                  \"Seventh-day Adventist: A Protestant denomination emphasizing the observance of Saturday as the Sabbath, the imminent return of Christ, and a holistic view of health and lifestyle.\",\n",
    "                                                  \"Quaker (Religious Society of Friends): A Protestant movement emphasizing direct personal experience of God, simplicity, pacifism, and communal decision-making.\",\n",
    "                                                  \"Church of Christ: A Protestant denomination that emphasizes restorationism, seeking to return to the practices of the early church, with a focus on baptism and weekly communion.\",\n",
    "                                                  \"Church of Nazarene: A Protestant denomination within the Wesleyan-Holiness tradition, emphasizing sanctification, evangelical outreach, and social holiness.\",\n",
    "                                                  \"Wesleyan Church: A Protestant denomination that follows the teachings of John Wesley, emphasizing holiness, social justice, and evangelism.\",\n",
    "                                                  \"Advent Christian Church: A Protestant denomination emphasizing the imminent return of Christ and the conditional immortality of the soul.\",\n",
    "                                                  \"African Methodist Episcopal Church: A historically Black Protestant denomination emphasizing social justice, liberation theology, and Methodism within the African American community.\",\n",
    "                                                  \"Churches of Christ (Restoration Movement): A Protestant denomination emphasizing the restoration of New Testament Christianity, with a focus on baptism and weekly observance of the Lord's Supper.\",\n",
    "                                                  \"Assemblies of God: A Pentecostal denomination emphasizing the work of the Holy Spirit, spiritual gifts, and evangelism, with a strong belief in the baptism in the Holy Spirit.\",\n",
    "                                                  \"Christian and Missionary Alliance: A Protestant denomination emphasizing evangelism, missions, and the deeper Christian life, with a focus on Christ as Savior, Sanctifier, Healer, and Coming King.\",\n",
    "                                                  \"United Church of Christ: A mainline Protestant denomination known for its progressive stance on social issues, emphasizing the autonomy of local congregations and a commitment to justice.\",\n",
    "                                                  \"Free Will Baptist: A Baptist tradition emphasizing free will in salvation, believer's baptism, and congregational governance.\",\n",
    "                                                  \"International Church of the Foursquare Gospel: A Pentecostal denomination emphasizing the fourfold ministry of Jesus as Savior, Baptizer with the Holy Spirit, Healer, and Soon-Coming King.\",\n",
    "                                                  \"Salvation Army: A Protestant denomination and charitable organization emphasizing evangelism, social service, and holiness, known for its military-style structure and uniform.\"]\n",
    "                                        },    \n",
    "    },\n",
    "    \"required\": [\"tradition\", \"document_title\", \"author\"]  \n",
    "\n",
    "}\n",
    "\n",
    "from langchain_openai import ChatOpenAI\n",
    "from langchain_community.document_transformers.openai_functions import (create_metadata_tagger)\n",
    "\n",
    "llm = ChatOpenAI(temperature=0, model=\"gpt-4o-mini\" )\n",
    "document_transformer = create_metadata_tagger(metadata_schema=schema, llm=llm, prompt=prompt)\n",
    "\n",
    "enhanced_docs = document_transformer.transform_documents(docs)"
   ]
  },
  {
   "cell_type": "code",
   "execution_count": 16,
   "id": "be068440-bb9a-4014-933d-adcec5397a84",
   "metadata": {},
   "outputs": [
    {
     "name": "stdout",
     "output_type": "stream",
     "text": [
      "{'document_title': 'ALL of GRACE', 'author': 'C.H. SPURGEON', 'tradition': \"Reformed Baptist: A branch of Baptists adhering to Reformed theology, emphasizing doctrines like predestination and God's sovereignty, often following the 1689 Baptist Confession of Faith.\", 'source': '/Users/matthewholden/Documents/CHS_All of Grace.pdf', 'file_directory': '/Users/matthewholden/Documents', 'filename': 'CHS_All of Grace.pdf', 'languages': ['eng'], 'last_modified': '2024-08-27T21:48:23', 'page_number': 1, 'filetype': 'application/pdf', 'category': 'CompositeElement', 'element_id': 'd1b826ab5a2aa294ad6a602370538727'}\n"
     ]
    }
   ],
   "source": [
    "print(enhanced_docs[0].metadata)"
   ]
  },
  {
   "cell_type": "code",
   "execution_count": null,
   "id": "0bdb9f6e-0029-4a21-ad88-5779f4b6cacc",
   "metadata": {},
   "outputs": [],
   "source": []
  }
 ],
 "metadata": {
  "kernelspec": {
   "display_name": "Python 3 (ipykernel)",
   "language": "python",
   "name": "python3"
  },
  "language_info": {
   "codemirror_mode": {
    "name": "ipython",
    "version": 3
   },
   "file_extension": ".py",
   "mimetype": "text/x-python",
   "name": "python",
   "nbconvert_exporter": "python",
   "pygments_lexer": "ipython3",
   "version": "3.12.5"
  }
 },
 "nbformat": 4,
 "nbformat_minor": 5
}
